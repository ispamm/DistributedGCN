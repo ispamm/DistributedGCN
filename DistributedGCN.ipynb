{
 "cells": [
  {
   "cell_type": "markdown",
   "id": "04035c3b",
   "metadata": {},
   "source": [
    "## Imports"
   ]
  },
  {
   "cell_type": "code",
   "execution_count": 165,
   "id": "1e69d33c",
   "metadata": {},
   "outputs": [],
   "source": [
    "import jax\n",
    "import networkx\n",
    "import pandas as pd\n",
    "import numpy as onp\n",
    "import jax.numpy as np\n",
    "from dgl import data\n",
    "from functools import partial\n",
    "from tqdm import notebook as tqdm\n",
    "from sklearn.preprocessing import OneHotEncoder\n",
    "from jax import random as r\n",
    "from jax.experimental import optimizers\n",
    "from jax.experimental.stax import Dropout\n",
    "from jax.flatten_util import ravel_pytree"
   ]
  },
  {
   "cell_type": "markdown",
   "id": "67496290",
   "metadata": {},
   "source": [
    "## Dataset"
   ]
  },
  {
   "cell_type": "code",
   "execution_count": 166,
   "id": "501d9a3e",
   "metadata": {},
   "outputs": [],
   "source": [
    "cora = data.citation_graph.CoraDataset()\n",
    "X = cora.features\n",
    "y = cora.labels"
   ]
  },
  {
   "cell_type": "code",
   "execution_count": 167,
   "id": "ce79fefe",
   "metadata": {},
   "outputs": [],
   "source": [
    "G = cora.graph\n",
    "A = networkx.to_numpy_matrix(G).A"
   ]
  },
  {
   "cell_type": "code",
   "execution_count": 168,
   "id": "c0ff2afe",
   "metadata": {},
   "outputs": [],
   "source": [
    "Aself = A + np.eye(A.shape[0])\n",
    "d = Aself.sum(axis=1)\n",
    "W = np.dot(np.diag(1.0 / d), Aself)"
   ]
  },
  {
   "cell_type": "code",
   "execution_count": 169,
   "id": "a023c868",
   "metadata": {},
   "outputs": [],
   "source": [
    "train_idx = cora.train_mask.astype(onp.bool)\n",
    "val_idx = cora.val_mask.astype(onp.bool)\n",
    "test_idx = cora.test_mask.astype(onp.bool)"
   ]
  },
  {
   "cell_type": "code",
   "execution_count": 170,
   "id": "1a62f3fb",
   "metadata": {},
   "outputs": [],
   "source": [
    "y_onehot = OneHotEncoder(sparse=False).fit_transform(y.reshape(-1, 1))"
   ]
  },
  {
   "cell_type": "code",
   "execution_count": 171,
   "id": "4378f8fa",
   "metadata": {},
   "outputs": [],
   "source": [
    "input_size = X.shape[1]\n",
    "hidden_size = 64\n",
    "output_size = onp.max(y) + 1"
   ]
  },
  {
   "cell_type": "markdown",
   "id": "344faef5",
   "metadata": {},
   "source": [
    "## Network"
   ]
  },
  {
   "cell_type": "code",
   "execution_count": 172,
   "id": "7e686a4d",
   "metadata": {},
   "outputs": [],
   "source": [
    "N_agents = 6\n",
    "P = 0.75\n",
    "key = r.PRNGKey(42)"
   ]
  },
  {
   "cell_type": "code",
   "execution_count": 173,
   "id": "f1fe1c1f",
   "metadata": {},
   "outputs": [],
   "source": [
    "def check_connected(M_agents):\n",
    "    tot = M_agents\n",
    "    tmp = M_agents\n",
    "    for i in range(M_agents.shape[0]):\n",
    "        tmp = np.matmul(tmp,M_agents)\n",
    "        tot += tmp\n",
    "    \n",
    "    return (tot>0.).all()"
   ]
  },
  {
   "cell_type": "code",
   "execution_count": 174,
   "metadata": {},
   "outputs": [],
   "source": [
    "def communication_mask(N_agents, P, key):\n",
    "    M_agents = np.zeros((N_agents,N_agents))\n",
    "    indices = np.triu_indices(N_agents,k=1)\n",
    "    agents_mask = r.bernoulli(p=P,\n",
    "                              shape=(int(N_agents*(N_agents-1)/2),),\n",
    "                              key=key)\n",
    "    M_agents = jax.ops.index_update(M_agents,indices,agents_mask)\n",
    "    M_agents += M_agents.T + np.eye(N_agents)\n",
    "    if check_connected(M_agents):\n",
    "        return M_agents\n",
    "    else:\n",
    "        print(\"Disconnected graph, retrying...\")\n",
    "        _, subkey = r.split(key)\n",
    "        return  communication_mask(N_agents,P, subkey)"
   ]
  },
  {
   "cell_type": "code",
   "execution_count": 175,
   "id": "451ea286",
   "metadata": {},
   "outputs": [],
   "source": [
    "M_agents = communication_mask(N_agents,P,key)"
   ]
  },
  {
   "cell_type": "code",
   "execution_count": 176,
   "id": "737759b8",
   "metadata": {},
   "outputs": [
    {
     "data": {
      "text/plain": [
       "DeviceArray([[1., 1., 1., 1., 0., 1.],\n",
       "             [1., 1., 0., 1., 1., 1.],\n",
       "             [1., 0., 1., 1., 1., 1.],\n",
       "             [1., 1., 1., 1., 1., 1.],\n",
       "             [0., 1., 1., 1., 1., 1.],\n",
       "             [1., 1., 1., 1., 1., 1.]], dtype=float32)"
      ]
     },
     "execution_count": 176,
     "metadata": {},
     "output_type": "execute_result"
    }
   ],
   "source": [
    "M_agents"
   ]
  },
  {
   "cell_type": "code",
   "execution_count": 177,
   "id": "793facc0",
   "metadata": {},
   "outputs": [],
   "source": [
    "node_to_agent = r.randint(minval=0, maxval=N_agents, shape=(X.shape[0], ), key=key)"
   ]
  },
  {
   "cell_type": "code",
   "execution_count": 178,
   "id": "2781ddf0",
   "metadata": {},
   "outputs": [],
   "source": [
    "def prune_connections(A, M_agents, node_to_agent):\n",
    "    new_A = A\n",
    "    if not M_agents.all():\n",
    "        #remove connections between agents that cannot communicate\n",
    "        for i in range(N_agents):\n",
    "            I = (node_to_agent==i).astype('int32')\n",
    "            for j in range(i+1,N_agents):\n",
    "                J = (node_to_agent==j).astype('int32')\n",
    "                if M_agents[i,j]==0:\n",
    "                    IJ = np.outer(I,J)\n",
    "                    new_A -= (A*IJ)\n",
    "    return new_A"
   ]
  },
  {
   "cell_type": "code",
   "execution_count": 179,
   "id": "ca87fe48",
   "metadata": {},
   "outputs": [],
   "source": [
    "new_A = prune_connections(A, M_agents, node_to_agent)\n",
    "new_Aself = new_A + onp.eye(new_A.shape[0])\n",
    "new_d = new_Aself.sum(axis=1)\n",
    "new_W = np.dot(onp.diag(1.0 / new_d), new_A + new_Aself)"
   ]
  },
  {
   "cell_type": "code",
   "execution_count": 180,
   "id": "e31eb81c",
   "metadata": {},
   "outputs": [],
   "source": [
    "def compute_consensus_matrix(new_A, N_agents, node_to_agent):\n",
    "    W_agents = np.zeros((N_agents,N_agents))\n",
    "    if N_agents > 1:\n",
    "    # count numbere of edges from one agent to the other\n",
    "        for i in range(N_agents):\n",
    "            I = (node_to_agent==i).astype('int16')\n",
    "            for j in range(i,N_agents):\n",
    "                J = (node_to_agent==j).astype('int16')\n",
    "                IJ = np.outer(I, J)\n",
    "                edges = (new_A * IJ).sum()\n",
    "                W_agents = jax.ops.index_update(W_agents,(i,j),edges)\n",
    "                W_agents = jax.ops.index_update(W_agents,(j,i),edges)\n",
    "\n",
    "        W_agents = W_agents / W_agents.sum(axis=0) \n",
    "    else:\n",
    "        W_agents = np.ones((1,1))\n",
    "\n",
    "    return W_agents"
   ]
  },
  {
   "cell_type": "code",
   "execution_count": 181,
   "id": "9642f4e7",
   "metadata": {},
   "outputs": [],
   "source": [
    "agents_W = compute_consensus_matrix(new_A, N_agents, node_to_agent)"
   ]
  },
  {
   "cell_type": "code",
   "execution_count": 182,
   "id": "e7d1884a",
   "metadata": {},
   "outputs": [
    {
     "data": {
      "text/plain": [
       "DeviceArray([[0.18981159, 0.19436814, 0.21210305, 0.15715244, 0.        ,\n",
       "              0.15239096],\n",
       "             [0.19748779, 0.19917582, 0.        , 0.17595702, 0.19868995,\n",
       "              0.18286915],\n",
       "             [0.24703419, 0.        , 0.22768125, 0.19677636, 0.2125182 ,\n",
       "              0.18392013],\n",
       "             [0.1632938 , 0.17994505, 0.17555423, 0.12760241, 0.17248908,\n",
       "              0.1434577 ],\n",
       "             [0.        , 0.1875    , 0.17495507, 0.15916723, 0.20232897,\n",
       "              0.1544929 ],\n",
       "             [0.20237264, 0.23901099, 0.20970641, 0.18334453, 0.2139738 ,\n",
       "              0.18286915]], dtype=float32)"
      ]
     },
     "execution_count": 182,
     "metadata": {},
     "output_type": "execute_result"
    }
   ],
   "source": [
    "agents_W"
   ]
  },
  {
   "cell_type": "markdown",
   "id": "d5f9aae6",
   "metadata": {},
   "source": [
    "## Training"
   ]
  },
  {
   "cell_type": "code",
   "execution_count": 183,
   "id": "17a8b784",
   "metadata": {},
   "outputs": [],
   "source": [
    "def cross_entropy(y, ypred):\n",
    "    return - np.mean(np.sum(y * np.log(ypred), axis=1))"
   ]
  },
  {
   "cell_type": "code",
   "execution_count": 184,
   "id": "a3294a8e",
   "metadata": {},
   "outputs": [],
   "source": [
    "def accuracy(y, ypred):\n",
    "    return np.mean(np.argmax(y, axis=1) == np.argmax(ypred, axis=1))"
   ]
  },
  {
   "cell_type": "code",
   "execution_count": 185,
   "id": "b6a70000",
   "metadata": {},
   "outputs": [],
   "source": [
    "def init_params(key):\n",
    "    _, subkey1 = r.split(key)\n",
    "    theta_l1 = jax.nn.initializers.lecun_normal()(key=key,\n",
    "                                                  shape=(input_size, hidden_size))\n",
    "    theta_l2 = jax.nn.initializers.lecun_normal()(key=subkey1,\n",
    "                                                  shape=(hidden_size, output_size))\n",
    "    b_l1 = np.zeros((hidden_size))\n",
    "    b_l2 = np.zeros((output_size))\n",
    "    return [theta_l1, b_l1, theta_l2, b_l2]"
   ]
  },
  {
   "cell_type": "code",
   "execution_count": 186,
   "id": "d563fdc6",
   "metadata": {},
   "outputs": [],
   "source": [
    "def init_params_dist(key):\n",
    "    _, *subkeys = r.split(key, num=N_agents+1)\n",
    "    params = []\n",
    "    for i in range(N_agents):\n",
    "        params.append(init_params(subkeys[i]))\n",
    "    return params"
   ]
  },
  {
   "cell_type": "code",
   "execution_count": 187,
   "id": "9cdc8157",
   "metadata": {},
   "outputs": [],
   "source": [
    "@partial(jax.jit, static_argnums=(3))\n",
    "def dist_gcn(params, L, X, mode, key=r.PRNGKey(0)):\n",
    "    _, dropout_fcn = Dropout(0.5, mode=mode)\n",
    "    _, subkey = r.split(key)\n",
    "    X = dropout_fcn(_, X, rng=key)\n",
    "\n",
    "    H = np.zeros((X.shape[0], hidden_size))\n",
    "    for i in range(N_agents):\n",
    "        H = jax.ops.index_update(H, node_to_agent == i,\n",
    "                                 np.dot(X[node_to_agent == i],\n",
    "                                 params[i][0]) + params[i][1])\n",
    "\n",
    "    H = np.dot(L, H)\n",
    "    H = jax.nn.relu(H)\n",
    "    H = dropout_fcn(_, H, rng=subkey)\n",
    " \n",
    "    Y = np.zeros((X.shape[0], output_size))\n",
    "    for i in range(N_agents):\n",
    "        Y = jax.ops.index_update(Y, node_to_agent == i,\n",
    "                                 np.dot(H[node_to_agent == i],\n",
    "                                 params[i][2]) + params[i][3])\n",
    "  \n",
    "    return jax.nn.softmax(np.dot(L, Y), axis=1)"
   ]
  },
  {
   "cell_type": "code",
   "execution_count": 188,
   "id": "0e569cbd",
   "metadata": {},
   "outputs": [],
   "source": [
    "def loss(params, L, key):\n",
    "    ypred = dist_gcn(params, L, X, 'train', key=key)\n",
    "    losses = cross_entropy(y_onehot[train_idx, :], ypred[train_idx, :])\n",
    "    return np.mean(losses), (ypred, losses)\n",
    "loss_and_grad = jax.jit(jax.value_and_grad(loss, has_aux=True))"
   ]
  },
  {
   "cell_type": "code",
   "execution_count": 189,
   "id": "95957e16",
   "metadata": {},
   "outputs": [],
   "source": [
    "@jax.jit\n",
    "def consensus_step(params, W):\n",
    "    flatten = [ravel_pytree(p) for p in params]\n",
    "    p_flat = np.vstack(f[0] for f in flatten)\n",
    "    p_flat = np.dot(W, p_flat)\n",
    "    return [flatten[i][1](p_flat[i]) for i in range(p_flat.shape[0])]"
   ]
  },
  {
   "cell_type": "markdown",
   "id": "bc3dd346",
   "metadata": {},
   "source": [
    "## Initialization"
   ]
  },
  {
   "cell_type": "code",
   "execution_count": 190,
   "id": "270450a8",
   "metadata": {},
   "outputs": [],
   "source": [
    "params = init_params_dist(key)\n",
    "agents_opts = []\n",
    "agents_opts_states = []\n",
    "for i in range(N_agents):\n",
    "    agents_opts.append(optimizers.adam(1e-3))\n",
    "    agents_opts_states.append(agents_opts[i][0](params[i]))"
   ]
  },
  {
   "cell_type": "markdown",
   "id": "3425ce37",
   "metadata": {},
   "source": [
    "## Training"
   ]
  },
  {
   "cell_type": "code",
   "execution_count": 191,
   "id": "a81eda5a",
   "metadata": {},
   "outputs": [
    {
     "data": {
      "application/vnd.jupyter.widget-view+json": {
       "model_id": "d9994274092f4c11bde774535e11adc3",
       "version_major": 2,
       "version_minor": 0
      },
      "text/plain": [
       "  0%|          | 0/200 [00:00<?, ?it/s]"
      ]
     },
     "metadata": {},
     "output_type": "display_data"
    }
   ],
   "source": [
    "iters = 200\n",
    "bar = tqdm.tqdm(range(iters))\n",
    "_, subkey = r.split(key)\n",
    "best_acc = best_val_acc = best_epoch = 0\n",
    "results =  {'tr_loss':[],'tr_acc':[],'te_acc':[],'best_acc':[],'best_epoch':[]}\n",
    "for i in bar:\n",
    "    subkey, subkey2 = r.split(subkey)\n",
    "    (loss_i, ypred), grads = loss_and_grad(params, new_W, subkey2)\n",
    "\n",
    "    if i>0:\n",
    "        agents_opts_states = consensus_step(agents_opts_states, agents_W)\n",
    "\n",
    "    for k in range(N_agents):\n",
    "        agents_opts_states[k] = agents_opts[k][1](i, grads[k], agents_opts_states[k])\n",
    "        params[k] = agents_opts[k][2](agents_opts_states[k])\n",
    "\n",
    "    ypred = dist_gcn(params, new_W, X, 'test')\n",
    "\n",
    "    train_acc_i = accuracy(y_onehot[train_idx, :], ypred[train_idx, :])\n",
    "    val_acc_i = accuracy(y_onehot[val_idx, :], ypred[val_idx, :])\n",
    "    test_acc_i = accuracy(y_onehot[test_idx, :], ypred[test_idx, :])\n",
    "\n",
    "    if val_acc_i > best_val_acc:\n",
    "        best_val_acc = val_acc_i\n",
    "        best_acc = test_acc_i\n",
    "        best_epoch = i\n",
    "\n",
    "    results['tr_loss'].append(loss_i)\n",
    "    results['tr_acc'].append(train_acc_i)\n",
    "    results['te_acc'].append(test_acc_i)\n",
    "\n",
    "results['best_acc'] = best_acc\n",
    "results['best_epoch'] = best_epoch"
   ]
  },
  {
   "cell_type": "markdown",
   "id": "7c43c7b3",
   "metadata": {},
   "source": [
    "## Results"
   ]
  },
  {
   "cell_type": "code",
   "execution_count": 192,
   "id": "af4ec0e2",
   "metadata": {},
   "outputs": [
    {
     "name": "stdout",
     "output_type": "stream",
     "text": [
      "Best epoch:195, Best Accuracy:0.6679999828338623\n"
     ]
    }
   ],
   "source": [
    "print(f\"Best epoch:{results['best_epoch']}, Best Accuracy:{results['best_acc']}\")"
   ]
  }
 ],
 "metadata": {
  "interpreter": {
   "hash": "949777d72b0d2535278d3dc13498b2535136f6dfe0678499012e853ee9abcab1"
  },
  "kernelspec": {
   "display_name": "Python 3.8.12 64-bit ('gxai': conda)",
   "language": "python",
   "name": "python3"
  },
  "language_info": {
   "codemirror_mode": {
    "name": "ipython",
    "version": 3
   },
   "file_extension": ".py",
   "mimetype": "text/x-python",
   "name": "python",
   "nbconvert_exporter": "python",
   "pygments_lexer": "ipython3",
   "version": "3.8.12"
  }
 },
 "nbformat": 4,
 "nbformat_minor": 5
}
