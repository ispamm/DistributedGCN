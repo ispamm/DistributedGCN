{
  "cells": [
    {
      "cell_type": "markdown",
      "id": "04035c3b",
      "metadata": {
        "id": "04035c3b"
      },
      "source": [
        "## Imports"
      ]
    },
    {
      "cell_type": "code",
      "execution_count": 52,
      "id": "1e69d33c",
      "metadata": {
        "id": "1e69d33c"
      },
      "outputs": [],
      "source": [
        "import jax\n",
        "import networkx\n",
        "import pandas as pd\n",
        "import numpy as onp\n",
        "import jax.numpy as np\n",
        "import matplotlib.pyplot as plt\n",
        "from dgl import data\n",
        "from functools import partial\n",
        "from tqdm import notebook as tqdm\n",
        "from sklearn.preprocessing import OneHotEncoder\n",
        "from jax import random as r\n",
        "from jax.experimental import optimizers\n",
        "from jax.experimental.stax import Dropout\n",
        "from jax.flatten_util import ravel_pytree"
      ]
    },
    {
      "cell_type": "markdown",
      "id": "67496290",
      "metadata": {
        "id": "67496290"
      },
      "source": [
        "## Dataset\n",
        "\n",
        "In this section we just download and preprocess CoRa."
      ]
    },
    {
      "cell_type": "code",
      "execution_count": 53,
      "id": "501d9a3e",
      "metadata": {
        "id": "501d9a3e"
      },
      "outputs": [],
      "source": [
        "cora = data.citation_graph.CoraDataset()\n",
        "X = cora.features\n",
        "y = cora.labels"
      ]
    },
    {
      "cell_type": "code",
      "execution_count": 54,
      "id": "ce79fefe",
      "metadata": {
        "id": "ce79fefe"
      },
      "outputs": [],
      "source": [
        "G = cora.graph\n",
        "A = networkx.to_numpy_matrix(G).A"
      ]
    },
    {
      "cell_type": "code",
      "execution_count": 56,
      "id": "a023c868",
      "metadata": {
        "id": "a023c868"
      },
      "outputs": [],
      "source": [
        "train_idx = cora.train_mask.astype(onp.bool)\n",
        "val_idx = cora.val_mask.astype(onp.bool)\n",
        "test_idx = cora.test_mask.astype(onp.bool)"
      ]
    },
    {
      "cell_type": "code",
      "execution_count": 57,
      "id": "1a62f3fb",
      "metadata": {
        "id": "1a62f3fb"
      },
      "outputs": [],
      "source": [
        "y_onehot = OneHotEncoder(sparse=False).fit_transform(y.reshape(-1, 1))"
      ]
    },
    {
      "cell_type": "code",
      "execution_count": 58,
      "id": "4378f8fa",
      "metadata": {
        "id": "4378f8fa"
      },
      "outputs": [],
      "source": [
        "input_size = X.shape[1]\n",
        "output_size = onp.max(y) + 1"
      ]
    },
    {
      "cell_type": "markdown",
      "id": "344faef5",
      "metadata": {
        "id": "344faef5"
      },
      "source": [
        "## Agents Network\n",
        "\n",
        "This part of the code defines the topology of the network of agents.\n",
        "Each agent will have its own set of trainable parameters."
      ]
    },
    {
      "cell_type": "code",
      "execution_count": 394,
      "id": "7e686a4d",
      "metadata": {
        "id": "7e686a4d"
      },
      "outputs": [],
      "source": [
        "N_agents = 10 # number of agents in the network\n",
        "P = 0.5 # Probabilty of keeping an edge between two agents\n",
        "lr = 0.007 # learning rate for adam optimizer\n",
        "iters = 200 # number of epochs/iterations\n",
        "hidden_size = 64 # dimension of the hiddel layers of the GCN\n",
        "key = r.PRNGKey(42)"
      ]
    },
    {
      "cell_type": "code",
      "execution_count": 395,
      "id": "f1fe1c1f",
      "metadata": {
        "id": "f1fe1c1f"
      },
      "outputs": [],
      "source": [
        "def check_connected(M_agents):\n",
        "    '''\n",
        "    input: adjacency matrix of the agents' network\n",
        "    This function checks that there are no isolated agents.\n",
        "    '''\n",
        "    tot = M_agents\n",
        "    tmp = M_agents\n",
        "    for i in range(M_agents.shape[0]):\n",
        "        tmp = np.matmul(tmp, M_agents)\n",
        "        tot += tmp\n",
        "    return (tot>0.).all()"
      ]
    },
    {
      "cell_type": "code",
      "execution_count": 396,
      "metadata": {
        "id": "wRtxA5NoCtlN"
      },
      "outputs": [],
      "source": [
        "def communication_mask(N_agents, P, key):\n",
        "    '''\n",
        "    input: (Number of agents, Probability, jax seed)\n",
        "    This function creates a random adjacecy matrix of size \n",
        "    N_agents X N_agents representing the agents' network.\n",
        "    Thhere are no disconnected components by construction.\n",
        "\n",
        "    '''\n",
        "    M_agents = np.zeros((N_agents,N_agents))\n",
        "    indices = np.triu_indices(N_agents,k=1)\n",
        "    agents_mask = r.bernoulli(p=P,\n",
        "                              shape=(int(N_agents*(N_agents-1)/2),),\n",
        "                              key=key)\n",
        "    M_agents = jax.ops.index_update(M_agents,indices,agents_mask)\n",
        "    M_agents += M_agents.T + np.eye(N_agents)\n",
        "    if check_connected(M_agents):\n",
        "        return M_agents\n",
        "    else:\n",
        "        print(\"Disconnected graph, retrying...\")\n",
        "        _, subkey = r.split(key)\n",
        "        return  communication_mask(N_agents,P, subkey)"
      ],
      "id": "wRtxA5NoCtlN"
    },
    {
      "cell_type": "code",
      "execution_count": 397,
      "id": "451ea286",
      "metadata": {
        "id": "451ea286"
      },
      "outputs": [],
      "source": [
        "M_agents = communication_mask(N_agents,P,key)"
      ]
    },
    {
      "cell_type": "code",
      "execution_count": 398,
      "id": "737759b8",
      "metadata": {
        "colab": {
          "base_uri": "https://localhost:8080/"
        },
        "id": "737759b8",
        "outputId": "38b82d16-857e-4214-c227-6394f69f9cbf"
      },
      "outputs": [
        {
          "output_type": "execute_result",
          "data": {
            "text/plain": [
              "DeviceArray([[1., 0., 1., 0., 1., 0., 1., 0., 1., 1.],\n",
              "             [0., 1., 0., 0., 1., 0., 0., 0., 1., 0.],\n",
              "             [1., 0., 1., 1., 0., 0., 1., 0., 1., 1.],\n",
              "             [0., 0., 1., 1., 0., 1., 0., 0., 1., 0.],\n",
              "             [1., 1., 0., 0., 1., 1., 0., 1., 1., 0.],\n",
              "             [0., 0., 0., 1., 1., 1., 1., 0., 0., 1.],\n",
              "             [1., 0., 1., 0., 0., 1., 1., 1., 0., 1.],\n",
              "             [0., 0., 0., 0., 1., 0., 1., 1., 1., 1.],\n",
              "             [1., 1., 1., 1., 1., 0., 0., 1., 1., 1.],\n",
              "             [1., 0., 1., 0., 0., 1., 1., 1., 1., 1.]], dtype=float32)"
            ]
          },
          "metadata": {},
          "execution_count": 398
        }
      ],
      "source": [
        "M_agents"
      ]
    },
    {
      "cell_type": "markdown",
      "source": [
        "## Node Assignment\n",
        "Here we assign a subset of the nodes in the graph to each agent.\n",
        "Here these procedure is perfomed randomly. However, preferential attachment or\n",
        "spectral clustering can be used to include \"locality\" in the assignment. \n",
        "\n",
        "The adjacency matrix of the graph is modified such that we remove the edges between nodes located on agents that are not directly connected."
      ],
      "metadata": {
        "id": "rb0lDg-BbuZy"
      },
      "id": "rb0lDg-BbuZy"
    },
    {
      "cell_type": "code",
      "execution_count": 399,
      "id": "793facc0",
      "metadata": {
        "id": "793facc0"
      },
      "outputs": [],
      "source": [
        "node_to_agent = r.randint(minval=0, maxval=N_agents, shape=(X.shape[0], ), key=key)"
      ]
    },
    {
      "cell_type": "code",
      "execution_count": 400,
      "id": "2781ddf0",
      "metadata": {
        "id": "2781ddf0"
      },
      "outputs": [],
      "source": [
        "def prune_connections(A, M_agents, node_to_agent):\n",
        "    '''\n",
        "    input: (graph adjacecy, agents adjacecy, node assignment)\n",
        "    Remove connections between agents that cannot communicate\n",
        "    '''\n",
        "    new_A = A\n",
        "    if not M_agents.all():\n",
        "        for i in range(N_agents):\n",
        "            I = (node_to_agent==i).astype('int32')\n",
        "            for j in range(i+1,N_agents):\n",
        "                J = (node_to_agent==j).astype('int32')\n",
        "                if M_agents[i,j]==0:\n",
        "                    IJ = np.outer(I,J)\n",
        "                    new_A -= (A*IJ)\n",
        "    return new_A"
      ]
    },
    {
      "cell_type": "code",
      "execution_count": 401,
      "id": "ca87fe48",
      "metadata": {
        "id": "ca87fe48"
      },
      "outputs": [],
      "source": [
        "# preprocess adjacecy matrix for graph convolutions\n",
        "new_A = prune_connections(A, M_agents, node_to_agent)\n",
        "new_Aself = new_A + onp.eye(new_A.shape[0])\n",
        "new_d = new_Aself.sum(axis=1)\n",
        "new_W = np.dot(onp.diag(1.0 / new_d), new_A + new_Aself)"
      ]
    },
    {
      "cell_type": "markdown",
      "source": [
        "## Consensus Matrix\n"
      ],
      "metadata": {
        "id": "lbtko8xErDEq"
      },
      "id": "lbtko8xErDEq"
    },
    {
      "cell_type": "code",
      "execution_count": 402,
      "id": "e31eb81c",
      "metadata": {
        "id": "e31eb81c"
      },
      "outputs": [],
      "source": [
        "def compute_consensus_matrix(new_A, N_agents, node_to_agent):\n",
        "    '''\n",
        "    input: (graph adjacecy, number of agents, node assignment)\n",
        "    output: combination whose sparsity pattern reflects the topology of\n",
        "    the communication graph. The matrix posses a set of properties  needed\n",
        "    to guarantee the convergence of the optimization process (A1-A3 in the paper)\n",
        "    '''\n",
        "    W_agents = np.zeros((N_agents,N_agents))\n",
        "    if N_agents > 1:\n",
        "        for i in range(N_agents):\n",
        "            I = (node_to_agent==i).astype('int16')\n",
        "            for j in range(i,N_agents):\n",
        "                J = (node_to_agent==j).astype('int16')\n",
        "                IJ = np.outer(I, J)\n",
        "                edges = (new_A * IJ).sum()\n",
        "                W_agents = jax.ops.index_update(W_agents,(i,j),edges)\n",
        "                W_agents = jax.ops.index_update(W_agents,(j,i),edges)\n",
        "\n",
        "        W_agents = W_agents / W_agents.sum(axis=0) \n",
        "    else:\n",
        "        W_agents = np.ones((1,1))\n",
        "\n",
        "    return W_agents"
      ]
    },
    {
      "cell_type": "code",
      "execution_count": 403,
      "id": "9642f4e7",
      "metadata": {
        "id": "9642f4e7"
      },
      "outputs": [],
      "source": [
        "agents_W = compute_consensus_matrix(new_A, N_agents, node_to_agent)"
      ]
    },
    {
      "cell_type": "code",
      "execution_count": 404,
      "id": "e7d1884a",
      "metadata": {
        "colab": {
          "base_uri": "https://localhost:8080/"
        },
        "id": "e7d1884a",
        "outputId": "f09e19af-4704-413b-a24a-14784bb70bbc"
      },
      "outputs": [
        {
          "output_type": "execute_result",
          "data": {
            "text/plain": [
              "DeviceArray([[0.16107382, 0.        , 0.16123779, 0.        , 0.16552901,\n",
              "              0.        , 0.15873016, 0.        , 0.10394737, 0.12226512],\n",
              "             [0.        , 0.3809524 , 0.        , 0.        , 0.15017065,\n",
              "              0.        , 0.        , 0.        , 0.12368421, 0.        ],\n",
              "             [0.16610739, 0.        , 0.13680781, 0.25194806, 0.        ,\n",
              "              0.        , 0.16727717, 0.        , 0.11973684, 0.13642214],\n",
              "             [0.        , 0.        , 0.15798046, 0.29090908, 0.        ,\n",
              "              0.19153675, 0.        , 0.        , 0.11842106, 0.        ],\n",
              "             [0.16275167, 0.2993197 , 0.        , 0.        , 0.19795223,\n",
              "              0.20489977, 0.        , 0.15181518, 0.13289474, 0.        ],\n",
              "             [0.        , 0.        , 0.        , 0.22337662, 0.1569966 ,\n",
              "              0.19599108, 0.11355311, 0.        , 0.        , 0.11583012],\n",
              "             [0.2181208 , 0.        , 0.22312704, 0.        , 0.        ,\n",
              "              0.20712695, 0.20512821, 0.2359736 , 0.        , 0.1904762 ],\n",
              "             [0.        , 0.        , 0.        , 0.        , 0.1569966 ,\n",
              "              0.        , 0.17460318, 0.24422443, 0.13421053, 0.15572716],\n",
              "             [0.13255033, 0.3197279 , 0.14820847, 0.23376623, 0.17235495,\n",
              "              0.        , 0.        , 0.16831683, 0.12368421, 0.14028314],\n",
              "             [0.15939598, 0.        , 0.17263843, 0.        , 0.        ,\n",
              "              0.20044543, 0.18070818, 0.19966997, 0.14342105, 0.13899614]],            dtype=float32)"
            ]
          },
          "metadata": {},
          "execution_count": 404
        }
      ],
      "source": [
        "agents_W"
      ]
    },
    {
      "cell_type": "markdown",
      "id": "d5f9aae6",
      "metadata": {
        "id": "d5f9aae6"
      },
      "source": [
        "## Training"
      ]
    },
    {
      "cell_type": "code",
      "execution_count": 405,
      "id": "17a8b784",
      "metadata": {
        "id": "17a8b784"
      },
      "outputs": [],
      "source": [
        "def cross_entropy(y, ypred):\n",
        "    return - np.mean(np.sum(y * np.log(ypred), axis=1))"
      ]
    },
    {
      "cell_type": "code",
      "execution_count": 406,
      "id": "a3294a8e",
      "metadata": {
        "id": "a3294a8e"
      },
      "outputs": [],
      "source": [
        "def accuracy(y, ypred):\n",
        "    return np.mean(np.argmax(y, axis=1) == np.argmax(ypred, axis=1))"
      ]
    },
    {
      "cell_type": "code",
      "execution_count": 407,
      "id": "b6a70000",
      "metadata": {
        "id": "b6a70000"
      },
      "outputs": [],
      "source": [
        "def init_params(key):\n",
        "    '''\n",
        "    jax initialization of the parameters required by a 2 layer GCN\n",
        "    '''\n",
        "    _, subkey1 = r.split(key)\n",
        "    theta_l1 = jax.nn.initializers.lecun_normal()(key=key,\n",
        "                                                  shape=(input_size, hidden_size))\n",
        "    theta_l2 = jax.nn.initializers.lecun_normal()(key=subkey1,\n",
        "                                                  shape=(hidden_size, output_size))\n",
        "    b_l1 = np.zeros((hidden_size))\n",
        "    b_l2 = np.zeros((output_size))\n",
        "    return [theta_l1, b_l1, theta_l2, b_l2]"
      ]
    },
    {
      "cell_type": "code",
      "execution_count": 408,
      "id": "d563fdc6",
      "metadata": {
        "id": "d563fdc6"
      },
      "outputs": [],
      "source": [
        "def init_params_dist(key):\n",
        "    '''\n",
        "    initialize the parameters for each agent\n",
        "    '''\n",
        "    _, *subkeys = r.split(key, num=N_agents+1)\n",
        "    params = []\n",
        "    for i in range(N_agents):\n",
        "        params.append(init_params(subkeys[i]))\n",
        "    return params"
      ]
    },
    {
      "cell_type": "code",
      "execution_count": 409,
      "id": "9cdc8157",
      "metadata": {
        "id": "9cdc8157"
      },
      "outputs": [],
      "source": [
        "@partial(jax.jit, static_argnums=(3))\n",
        "def dist_gcn(params, L, X, mode, key=r.PRNGKey(0)):\n",
        "    '''\n",
        "    input: (agents' parameters, diffusion operator, train/test, jax seed)\n",
        "    This function builds a distributed GCN. This GCN updates independently the\n",
        "    weights of each agent.\n",
        "    '''\n",
        "    _, dropout_fcn = Dropout(0.5, mode=mode)\n",
        "    _, subkey = r.split(key)\n",
        "    X = dropout_fcn(_, X, rng=key)\n",
        "\n",
        "    H = np.zeros((X.shape[0], hidden_size))\n",
        "    for i in range(N_agents):\n",
        "        H = jax.ops.index_update(H, node_to_agent == i,\n",
        "                                 np.dot(X[node_to_agent == i],\n",
        "                                 params[i][0]) + params[i][1])\n",
        "\n",
        "    H = np.dot(L, H)\n",
        "    H = jax.nn.relu(H)\n",
        "    H = dropout_fcn(_, H, rng=subkey)\n",
        " \n",
        "    Y = np.zeros((X.shape[0], output_size))\n",
        "    for i in range(N_agents):\n",
        "        Y = jax.ops.index_update(Y, node_to_agent == i,\n",
        "                                 np.dot(H[node_to_agent == i],\n",
        "                                 params[i][2]) + params[i][3])\n",
        "  \n",
        "    return jax.nn.softmax(np.dot(L, Y), axis=1)"
      ]
    },
    {
      "cell_type": "code",
      "execution_count": 410,
      "id": "0e569cbd",
      "metadata": {
        "id": "0e569cbd"
      },
      "outputs": [],
      "source": [
        "def loss(params, L, key):\n",
        "    '''\n",
        "    input:(agents' parameters, diffusion operator, jax random seed)\n",
        "    The function performs a forward step and compute the cross-entropy loss for\n",
        "    each agent.\n",
        "    '''\n",
        "    ypred = dist_gcn(params, L, X, 'train', key=key)\n",
        "    losses = cross_entropy(y_onehot[train_idx, :], ypred[train_idx, :])\n",
        "    return np.mean(losses), (ypred, losses)\n",
        "loss_and_grad = jax.jit(jax.value_and_grad(loss, has_aux=True)) # jax black magic"
      ]
    },
    {
      "cell_type": "code",
      "execution_count": 411,
      "id": "95957e16",
      "metadata": {
        "id": "95957e16"
      },
      "outputs": [],
      "source": [
        "@jax.jit\n",
        "def consensus_step(params, W):\n",
        "    '''\n",
        "    input:(agents' parameters, agents'consensus matrix)\n",
        "    output: new set of weights for each agent. An agent averages its weight with\n",
        "    the ones of the agents in its neighborhood.\n",
        "    '''\n",
        "    flatten = [ravel_pytree(p) for p in params]\n",
        "    p_flat = np.vstack(f[0] for f in flatten)\n",
        "    p_flat = np.dot(W, p_flat)\n",
        "    return [flatten[i][1](p_flat[i]) for i in range(p_flat.shape[0])]"
      ]
    },
    {
      "cell_type": "markdown",
      "id": "bc3dd346",
      "metadata": {
        "id": "bc3dd346"
      },
      "source": [
        "## Initialization"
      ]
    },
    {
      "cell_type": "code",
      "execution_count": 412,
      "id": "270450a8",
      "metadata": {
        "id": "270450a8"
      },
      "outputs": [],
      "source": [
        "params = init_params_dist(key)\n",
        "agents_opts = []\n",
        "agents_opts_states = []\n",
        "for i in range(N_agents):\n",
        "    agents_opts.append(optimizers.adam(lr))\n",
        "    agents_opts_states.append(agents_opts[i][0](params[i]))"
      ]
    },
    {
      "cell_type": "markdown",
      "id": "3425ce37",
      "metadata": {
        "id": "3425ce37"
      },
      "source": [
        "## Training"
      ]
    },
    {
      "cell_type": "code",
      "execution_count": 413,
      "id": "a81eda5a",
      "metadata": {
        "colab": {
          "base_uri": "https://localhost:8080/",
          "height": 49,
          "referenced_widgets": [
            "a0da04f11b6b4f44ab5a75bdbf7bc82b",
            "626ebfc0c8364c96b5ce13142ce5825c",
            "0f61b2cf534e4f0fb69b60b290096899",
            "4b9897286f314464b5d82bb40001385c",
            "971ecab9838242f99fe3d4d3f3e15dbd",
            "33b00bfc3d4a41a186faaef09d4ccf7e",
            "bcc59c8a13c5405e9658c90c03ce25e6",
            "a33a0a969a3c4c60808b23ec42b42ad0",
            "0a354a2e0152496fb892ef95cf310124",
            "82e98d44f303474ead5a81da0214b8e2",
            "ac66ee18c317447da1e6366fff1a0c83"
          ]
        },
        "id": "a81eda5a",
        "outputId": "8ef93b4e-a5a3-4912-fa32-39a054e7a633"
      },
      "outputs": [
        {
          "output_type": "display_data",
          "data": {
            "application/vnd.jupyter.widget-view+json": {
              "model_id": "a0da04f11b6b4f44ab5a75bdbf7bc82b",
              "version_minor": 0,
              "version_major": 2
            },
            "text/plain": [
              "  0%|          | 0/200 [00:00<?, ?it/s]"
            ]
          },
          "metadata": {}
        }
      ],
      "source": [
        "bar = tqdm.tqdm(range(iters))\n",
        "_, subkey = r.split(key)\n",
        "best_acc = best_val_acc = best_epoch = 0\n",
        "results =  {'tr_loss':[],'tr_acc':[],'te_acc':[],'best_acc':[],'best_epoch':[]}\n",
        "for i in bar:\n",
        "    subkey, subkey2 = r.split(subkey)\n",
        "    # feedforward step\n",
        "    (loss_i, ypred), grads = loss_and_grad(params, new_W, subkey2)\n",
        "\n",
        "    if i>0: #consensus performed after each iteration\n",
        "        agents_opts_states = consensus_step(agents_opts_states, agents_W)\n",
        "\n",
        "    for k in range(N_agents): # parameters' update\n",
        "        agents_opts_states[k] = agents_opts[k][1](i, grads[k], agents_opts_states[k])\n",
        "        params[k] = agents_opts[k][2](agents_opts_states[k])\n",
        "\n",
        "    ypred = dist_gcn(params, new_W, X, 'test')\n",
        "\n",
        "    train_acc_i = accuracy(y_onehot[train_idx, :], ypred[train_idx, :])\n",
        "    val_acc_i = accuracy(y_onehot[val_idx, :], ypred[val_idx, :])\n",
        "    test_acc_i = accuracy(y_onehot[test_idx, :], ypred[test_idx, :])\n",
        "\n",
        "    if val_acc_i > best_val_acc:\n",
        "        best_val_acc = val_acc_i\n",
        "        best_acc = test_acc_i\n",
        "        best_epoch = i\n",
        "\n",
        "    results['tr_loss'].append(loss_i)\n",
        "    results['tr_acc'].append(train_acc_i)\n",
        "    results['te_acc'].append(test_acc_i)\n",
        "\n",
        "results['best_acc'] = best_acc\n",
        "results['best_epoch'] = best_epoch"
      ]
    },
    {
      "cell_type": "markdown",
      "id": "7c43c7b3",
      "metadata": {
        "id": "7c43c7b3"
      },
      "source": [
        "## Results"
      ]
    },
    {
      "cell_type": "code",
      "execution_count": 414,
      "id": "af4ec0e2",
      "metadata": {
        "colab": {
          "base_uri": "https://localhost:8080/"
        },
        "id": "af4ec0e2",
        "outputId": "99347b67-e5e1-4825-b3a6-6ef90ddf1a5b"
      },
      "outputs": [
        {
          "output_type": "stream",
          "name": "stdout",
          "text": [
            "Best epoch:124, Best Accuracy:0.8090000152587891\n"
          ]
        }
      ],
      "source": [
        "print(f\"Best epoch:{results['best_epoch']}, Best Accuracy:{results['best_acc']}\")"
      ]
    },
    {
      "cell_type": "code",
      "source": [
        "plt.plot(results['tr_loss'], label=\"Training Loss\")\n",
        "plt.legend()"
      ],
      "metadata": {
        "colab": {
          "base_uri": "https://localhost:8080/",
          "height": 282
        },
        "id": "QqvRXsDZGRJU",
        "outputId": "e0048544-25ca-49d3-f56a-8ecb360dab88"
      },
      "id": "QqvRXsDZGRJU",
      "execution_count": 415,
      "outputs": [
        {
          "output_type": "execute_result",
          "data": {
            "text/plain": [
              "<matplotlib.legend.Legend at 0x7f27e05f2890>"
            ]
          },
          "metadata": {},
          "execution_count": 415
        },
        {
          "output_type": "display_data",
          "data": {
            "image/png": "[encoded data removed]",
            "text/plain": [
              "<Figure size 432x288 with 1 Axes>"
            ]
          },
          "metadata": {
            "needs_background": "light"
          }
        }
      ]
    },
    {
      "cell_type": "code",
      "source": [
        "plt.plot(results['tr_acc'], label=\"Training Acccuracy\")\n",
        "plt.plot(results['te_acc'], label=\"Test Accuracy\")\n",
        "plt.legend()"
      ],
      "metadata": {
        "colab": {
          "base_uri": "https://localhost:8080/",
          "height": 282
        },
        "id": "r7fX6VzMIOfI",
        "outputId": "79211b02-1708-4a64-e49a-b1e418e17848"
      },
      "id": "r7fX6VzMIOfI",
      "execution_count": 416,
      "outputs": [
        {
          "output_type": "execute_result",
          "data": {
            "text/plain": [
              "<matplotlib.legend.Legend at 0x7f27df1f09d0>"
            ]
          },
          "metadata": {},
          "execution_count": 416
        },
        {
          "output_type": "display_data",
          "data": {
            "image/png": "[encoded data removed]",
            "text/plain": [
              "<Figure size 432x288 with 1 Axes>"
            ]
          },
          "metadata": {
            "needs_background": "light"
          }
        }
      ]
    }
  ],
  "metadata": {
    "interpreter": {
      "hash": "949777d72b0d2535278d3dc13498b2535136f6dfe0678499012e853ee9abcab1"
    },
    "kernelspec": {
      "display_name": "Python 3.8.12 64-bit ('gxai': conda)",
      "language": "python",
      "name": "python3"
    },
    "language_info": {
      "codemirror_mode": {
        "name": "ipython",
        "version": 3
      },
      "file_extension": ".py",
      "mimetype": "text/x-python",
      "name": "python",
      "nbconvert_exporter": "python",
      "pygments_lexer": "ipython3",
      "version": "3.8.12"
    },
    "colab": {
      "name": "DistributedGCN.ipynb",
      "provenance": [],
      "collapsed_sections": []
    },
    "widgets": {
      "application/vnd.jupyter.widget-state+json": {
        "a0da04f11b6b4f44ab5a75bdbf7bc82b": {
          "model_module": "@jupyter-widgets/controls",
          "model_name": "HBoxModel",
          "model_module_version": "1.5.0",
          "state": {
            "_view_name": "HBoxView",
            "_dom_classes": [],
            "_model_name": "HBoxModel",
            "_view_module": "@jupyter-widgets/controls",
            "_model_module_version": "1.5.0",
            "_view_count": null,
            "_view_module_version": "1.5.0",
            "box_style": "",
            "layout": "IPY_MODEL_626ebfc0c8364c96b5ce13142ce5825c",
            "_model_module": "@jupyter-widgets/controls",
            "children": [
              "IPY_MODEL_0f61b2cf534e4f0fb69b60b290096899",
              "IPY_MODEL_4b9897286f314464b5d82bb40001385c",
              "IPY_MODEL_971ecab9838242f99fe3d4d3f3e15dbd"
            ]
          }
        },
        "626ebfc0c8364c96b5ce13142ce5825c": {
          "model_module": "@jupyter-widgets/base",
          "model_name": "LayoutModel",
          "model_module_version": "1.2.0",
          "state": {
            "_view_name": "LayoutView",
            "grid_template_rows": null,
            "right": null,
            "justify_content": null,
            "_view_module": "@jupyter-widgets/base",
            "overflow": null,
            "_model_module_version": "1.2.0",
            "_view_count": null,
            "flex_flow": null,
            "width": null,
            "min_width": null,
            "border": null,
            "align_items": null,
            "bottom": null,
            "_model_module": "@jupyter-widgets/base",
            "top": null,
            "grid_column": null,
            "overflow_y": null,
            "overflow_x": null,
            "grid_auto_flow": null,
            "grid_area": null,
            "grid_template_columns": null,
            "flex": null,
            "_model_name": "LayoutModel",
            "justify_items": null,
            "grid_row": null,
            "max_height": null,
            "align_content": null,
            "visibility": null,
            "align_self": null,
            "height": null,
            "min_height": null,
            "padding": null,
            "grid_auto_rows": null,
            "grid_gap": null,
            "max_width": null,
            "order": null,
            "_view_module_version": "1.2.0",
            "grid_template_areas": null,
            "object_position": null,
            "object_fit": null,
            "grid_auto_columns": null,
            "margin": null,
            "display": null,
            "left": null
          }
        },
        "0f61b2cf534e4f0fb69b60b290096899": {
          "model_module": "@jupyter-widgets/controls",
          "model_name": "HTMLModel",
          "model_module_version": "1.5.0",
          "state": {
            "_view_name": "HTMLView",
            "style": "IPY_MODEL_33b00bfc3d4a41a186faaef09d4ccf7e",
            "_dom_classes": [],
            "description": "",
            "_model_name": "HTMLModel",
            "placeholder": "​",
            "_view_module": "@jupyter-widgets/controls",
            "_model_module_version": "1.5.0",
            "value": "100%",
            "_view_count": null,
            "_view_module_version": "1.5.0",
            "description_tooltip": null,
            "_model_module": "@jupyter-widgets/controls",
            "layout": "IPY_MODEL_bcc59c8a13c5405e9658c90c03ce25e6"
          }
        },
        "4b9897286f314464b5d82bb40001385c": {
          "model_module": "@jupyter-widgets/controls",
          "model_name": "FloatProgressModel",
          "model_module_version": "1.5.0",
          "state": {
            "_view_name": "ProgressView",
            "style": "IPY_MODEL_a33a0a969a3c4c60808b23ec42b42ad0",
            "_dom_classes": [],
            "description": "",
            "_model_name": "FloatProgressModel",
            "bar_style": "success",
            "max": 200,
            "_view_module": "@jupyter-widgets/controls",
            "_model_module_version": "1.5.0",
            "value": 200,
            "_view_count": null,
            "_view_module_version": "1.5.0",
            "orientation": "horizontal",
            "min": 0,
            "description_tooltip": null,
            "_model_module": "@jupyter-widgets/controls",
            "layout": "IPY_MODEL_0a354a2e0152496fb892ef95cf310124"
          }
        },
        "971ecab9838242f99fe3d4d3f3e15dbd": {
          "model_module": "@jupyter-widgets/controls",
          "model_name": "HTMLModel",
          "model_module_version": "1.5.0",
          "state": {
            "_view_name": "HTMLView",
            "style": "IPY_MODEL_82e98d44f303474ead5a81da0214b8e2",
            "_dom_classes": [],
            "description": "",
            "_model_name": "HTMLModel",
            "placeholder": "​",
            "_view_module": "@jupyter-widgets/controls",
            "_model_module_version": "1.5.0",
            "value": " 200/200 [01:37&lt;00:00,  1.54it/s]",
            "_view_count": null,
            "_view_module_version": "1.5.0",
            "description_tooltip": null,
            "_model_module": "@jupyter-widgets/controls",
            "layout": "IPY_MODEL_ac66ee18c317447da1e6366fff1a0c83"
          }
        },
        "33b00bfc3d4a41a186faaef09d4ccf7e": {
          "model_module": "@jupyter-widgets/controls",
          "model_name": "DescriptionStyleModel",
          "model_module_version": "1.5.0",
          "state": {
            "_view_name": "StyleView",
            "_model_name": "DescriptionStyleModel",
            "description_width": "",
            "_view_module": "@jupyter-widgets/base",
            "_model_module_version": "1.5.0",
            "_view_count": null,
            "_view_module_version": "1.2.0",
            "_model_module": "@jupyter-widgets/controls"
          }
        },
        "bcc59c8a13c5405e9658c90c03ce25e6": {
          "model_module": "@jupyter-widgets/base",
          "model_name": "LayoutModel",
          "model_module_version": "1.2.0",
          "state": {
            "_view_name": "LayoutView",
            "grid_template_rows": null,
            "right": null,
            "justify_content": null,
            "_view_module": "@jupyter-widgets/base",
            "overflow": null,
            "_model_module_version": "1.2.0",
            "_view_count": null,
            "flex_flow": null,
            "width": null,
            "min_width": null,
            "border": null,
            "align_items": null,
            "bottom": null,
            "_model_module": "@jupyter-widgets/base",
            "top": null,
            "grid_column": null,
            "overflow_y": null,
            "overflow_x": null,
            "grid_auto_flow": null,
            "grid_area": null,
            "grid_template_columns": null,
            "flex": null,
            "_model_name": "LayoutModel",
            "justify_items": null,
            "grid_row": null,
            "max_height": null,
            "align_content": null,
            "visibility": null,
            "align_self": null,
            "height": null,
            "min_height": null,
            "padding": null,
            "grid_auto_rows": null,
            "grid_gap": null,
            "max_width": null,
            "order": null,
            "_view_module_version": "1.2.0",
            "grid_template_areas": null,
            "object_position": null,
            "object_fit": null,
            "grid_auto_columns": null,
            "margin": null,
            "display": null,
            "left": null
          }
        },
        "a33a0a969a3c4c60808b23ec42b42ad0": {
          "model_module": "@jupyter-widgets/controls",
          "model_name": "ProgressStyleModel",
          "model_module_version": "1.5.0",
          "state": {
            "_view_name": "StyleView",
            "_model_name": "ProgressStyleModel",
            "description_width": "",
            "_view_module": "@jupyter-widgets/base",
            "_model_module_version": "1.5.0",
            "_view_count": null,
            "_view_module_version": "1.2.0",
            "bar_color": null,
            "_model_module": "@jupyter-widgets/controls"
          }
        },
        "0a354a2e0152496fb892ef95cf310124": {
          "model_module": "@jupyter-widgets/base",
          "model_name": "LayoutModel",
          "model_module_version": "1.2.0",
          "state": {
            "_view_name": "LayoutView",
            "grid_template_rows": null,
            "right": null,
            "justify_content": null,
            "_view_module": "@jupyter-widgets/base",
            "overflow": null,
            "_model_module_version": "1.2.0",
            "_view_count": null,
            "flex_flow": null,
            "width": null,
            "min_width": null,
            "border": null,
            "align_items": null,
            "bottom": null,
            "_model_module": "@jupyter-widgets/base",
            "top": null,
            "grid_column": null,
            "overflow_y": null,
            "overflow_x": null,
            "grid_auto_flow": null,
            "grid_area": null,
            "grid_template_columns": null,
            "flex": null,
            "_model_name": "LayoutModel",
            "justify_items": null,
            "grid_row": null,
            "max_height": null,
            "align_content": null,
            "visibility": null,
            "align_self": null,
            "height": null,
            "min_height": null,
            "padding": null,
            "grid_auto_rows": null,
            "grid_gap": null,
            "max_width": null,
            "order": null,
            "_view_module_version": "1.2.0",
            "grid_template_areas": null,
            "object_position": null,
            "object_fit": null,
            "grid_auto_columns": null,
            "margin": null,
            "display": null,
            "left": null
          }
        },
        "82e98d44f303474ead5a81da0214b8e2": {
          "model_module": "@jupyter-widgets/controls",
          "model_name": "DescriptionStyleModel",
          "model_module_version": "1.5.0",
          "state": {
            "_view_name": "StyleView",
            "_model_name": "DescriptionStyleModel",
            "description_width": "",
            "_view_module": "@jupyter-widgets/base",
            "_model_module_version": "1.5.0",
            "_view_count": null,
            "_view_module_version": "1.2.0",
            "_model_module": "@jupyter-widgets/controls"
          }
        },
        "ac66ee18c317447da1e6366fff1a0c83": {
          "model_module": "@jupyter-widgets/base",
          "model_name": "LayoutModel",
          "model_module_version": "1.2.0",
          "state": {
            "_view_name": "LayoutView",
            "grid_template_rows": null,
            "right": null,
            "justify_content": null,
            "_view_module": "@jupyter-widgets/base",
            "overflow": null,
            "_model_module_version": "1.2.0",
            "_view_count": null,
            "flex_flow": null,
            "width": null,
            "min_width": null,
            "border": null,
            "align_items": null,
            "bottom": null,
            "_model_module": "@jupyter-widgets/base",
            "top": null,
            "grid_column": null,
            "overflow_y": null,
            "overflow_x": null,
            "grid_auto_flow": null,
            "grid_area": null,
            "grid_template_columns": null,
            "flex": null,
            "_model_name": "LayoutModel",
            "justify_items": null,
            "grid_row": null,
            "max_height": null,
            "align_content": null,
            "visibility": null,
            "align_self": null,
            "height": null,
            "min_height": null,
            "padding": null,
            "grid_auto_rows": null,
            "grid_gap": null,
            "max_width": null,
            "order": null,
            "_view_module_version": "1.2.0",
            "grid_template_areas": null,
            "object_position": null,
            "object_fit": null,
            "grid_auto_columns": null,
            "margin": null,
            "display": null,
            "left": null
          }
        }
      }
    }
  },
  "nbformat": 4,
  "nbformat_minor": 5
}